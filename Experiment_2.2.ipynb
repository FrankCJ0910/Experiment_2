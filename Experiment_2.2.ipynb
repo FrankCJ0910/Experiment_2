{
 "cells": [
  {
   "cell_type": "code",
   "execution_count": 43,
   "id": "7a1cd5bf-5d83-4470-940d-41ab5acbbff8",
   "metadata": {},
   "outputs": [
    {
     "data": {
      "text/plain": [
       "array([9.000e+00, 3.600e+01, 8.100e+01, 1.440e+02, 2.250e+02, 3.240e+02,\n",
       "       4.410e+02, 5.760e+02, 7.290e+02, 9.000e+02, 1.089e+03, 1.296e+03,\n",
       "       1.521e+03, 1.764e+03, 2.025e+03, 2.304e+03, 2.601e+03, 2.916e+03,\n",
       "       3.249e+03, 3.600e+03, 3.969e+03, 4.356e+03, 4.761e+03, 5.184e+03,\n",
       "       5.625e+03, 6.084e+03, 6.561e+03, 7.056e+03, 7.569e+03, 8.100e+03,\n",
       "       8.649e+03, 9.216e+03, 9.801e+03])"
      ]
     },
     "execution_count": 43,
     "metadata": {},
     "output_type": "execute_result"
    }
   ],
   "source": [
    "#Import numpy library\n",
    "import numpy as np\n",
    "\n",
    "#Create array to store values\n",
    "A = np.zeros([10,10])\n",
    "\n",
    "#Starting value of the array\n",
    "n = 1\n",
    "#Nested loop for each element of A\n",
    "for i in range(10):\n",
    "    for j in range(10):\n",
    "        #Store the value of n squared\n",
    "        A[i,j] = n**2\n",
    "        #increment value of n by 1\n",
    "        n += 1\n",
    "\n",
    "#Store the values that are divisible by 3\n",
    "B = A[A%3==0]\n",
    "\n",
    "#Save the array\n",
    "np.save('div_by_3.npy',B)\n",
    "\n",
    "#Show result\n",
    "B"
   ]
  },
  {
   "cell_type": "code",
   "execution_count": null,
   "id": "b181f7f1-b271-45db-9884-a49725b35aca",
   "metadata": {},
   "outputs": [],
   "source": []
  }
 ],
 "metadata": {
  "kernelspec": {
   "display_name": "Python 3 (ipykernel)",
   "language": "python",
   "name": "python3"
  },
  "language_info": {
   "codemirror_mode": {
    "name": "ipython",
    "version": 3
   },
   "file_extension": ".py",
   "mimetype": "text/x-python",
   "name": "python",
   "nbconvert_exporter": "python",
   "pygments_lexer": "ipython3",
   "version": "3.12.4"
  }
 },
 "nbformat": 4,
 "nbformat_minor": 5
}
