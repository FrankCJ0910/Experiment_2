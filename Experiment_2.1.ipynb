{
 "cells": [
  {
   "cell_type": "code",
   "execution_count": 50,
   "id": "7e08c5f4-214a-4aba-b20a-7b3bee9f7197",
   "metadata": {},
   "outputs": [
    {
     "data": {
      "text/plain": [
       "array([[-0.09373827, -1.1182523 , -0.69803794, -0.26298194,  0.42750489],\n",
       "       [-0.32064889,  0.86834843, -0.57727588,  0.49554292, -1.5983529 ],\n",
       "       [ 0.70243752,  1.87749033, -0.65807792, -0.57474544, -1.06293606],\n",
       "       [-1.28753644,  0.38785038, -1.30388831, -0.00359351,  0.08436357],\n",
       "       [ 1.68876587, -0.4734202 , -0.10150648,  1.86484596,  1.73784264]])"
      ]
     },
     "execution_count": 50,
     "metadata": {},
     "output_type": "execute_result"
    }
   ],
   "source": [
    "#Import numpy library\n",
    "import numpy as np\n",
    "\n",
    "#Create random array\n",
    "X = np.random.random((5,5))\n",
    "\n",
    "#Get the mean of the array\n",
    "m = X.mean()\n",
    "\n",
    "#Get the std of the array\n",
    "std = X.std()\n",
    "\n",
    "#Create array to store normalized values\n",
    "norm = np.zeros([5,5])\n",
    "\n",
    "#Nested loop for every row and column of X\n",
    "for i in range(5):\n",
    "    for j in range(5):\n",
    "        #Perform normalization on each element\n",
    "        norm[i,j] = (X[i,j] - m)/std\n",
    "\n",
    "#Save the array\n",
    "np.save('X_normalized.npy',norm)\n",
    "\n",
    "#Show results\n",
    "norm"
   ]
  },
  {
   "cell_type": "code",
   "execution_count": null,
   "id": "667cc88c-eac5-401b-9385-b731df937984",
   "metadata": {},
   "outputs": [],
   "source": []
  }
 ],
 "metadata": {
  "kernelspec": {
   "display_name": "Python 3 (ipykernel)",
   "language": "python",
   "name": "python3"
  },
  "language_info": {
   "codemirror_mode": {
    "name": "ipython",
    "version": 3
   },
   "file_extension": ".py",
   "mimetype": "text/x-python",
   "name": "python",
   "nbconvert_exporter": "python",
   "pygments_lexer": "ipython3",
   "version": "3.12.4"
  }
 },
 "nbformat": 4,
 "nbformat_minor": 5
}
