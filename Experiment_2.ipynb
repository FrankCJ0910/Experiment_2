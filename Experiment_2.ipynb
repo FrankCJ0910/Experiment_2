{
 "cells": [
  {
   "cell_type": "markdown",
   "id": "d5dbc045-90be-4348-9d3e-616b36922289",
   "metadata": {},
   "source": [
    "# Problem 1 \n",
    "#### Normalization is one of the most basic preprocessing techniques in data analytics. This involves centering and scaling process. Centering means subtracting the data from the mean and scaling means dividing with its standard deviation. Mathematically, normalization can be expressed as:𝑍 = (𝑋 − 𝑥̅)/𝜎"
   ]
  },
  {
   "cell_type": "markdown",
   "id": "370fcc6d-c0b8-43d0-81f4-7370e2c1a1e4",
   "metadata": {},
   "source": [
    "##### I will be using the numerical python library for the following problems, hence this line will import the libary into the program"
   ]
  },
  {
   "cell_type": "code",
   "execution_count": 3,
   "id": "8b3e9063-95cd-47db-85ca-00ff19f7ec41",
   "metadata": {},
   "outputs": [],
   "source": [
    "import numpy as np"
   ]
  },
  {
   "cell_type": "markdown",
   "id": "8bb50b31-3053-46a5-99c9-fbb2531713f5",
   "metadata": {},
   "source": [
    "##### To create a randomized 5x5 array, the function .random.random() was used and stored into the variable X"
   ]
  },
  {
   "cell_type": "code",
   "execution_count": 5,
   "id": "4b449f9d-c231-4432-a058-55907d60f078",
   "metadata": {},
   "outputs": [],
   "source": [
    "X = np.random.random((5,5))"
   ]
  },
  {
   "cell_type": "markdown",
   "id": "209324ce-5f89-403d-8e93-30e2414b0ba7",
   "metadata": {},
   "source": [
    "##### Using np.zeros(), created an empty 5x5 array to store the normalized X values"
   ]
  },
  {
   "cell_type": "code",
   "execution_count": 7,
   "id": "06082239-9255-402c-a3d6-4d14e075d767",
   "metadata": {},
   "outputs": [],
   "source": [
    "norm = np.zeros([5,5])"
   ]
  },
  {
   "cell_type": "markdown",
   "id": "61df389d-1701-469e-a9d5-15a814d57fae",
   "metadata": {},
   "source": [
    "##### To find the mean and standard deviation of the array, the functions .mean() and .std() are used and stored in their own variables"
   ]
  },
  {
   "cell_type": "code",
   "execution_count": 9,
   "id": "396ea2f4-a0bc-49f8-8324-6c28fac4701b",
   "metadata": {},
   "outputs": [],
   "source": [
    "m = X.mean()\n",
    "std = X.std()"
   ]
  },
  {
   "cell_type": "markdown",
   "id": "7bfffc51-1612-48ba-a121-d0deb47bc9b7",
   "metadata": {},
   "source": [
    "###### A nested for loop of range 5 was used to go through each element of the array and normalize each value and store it into norm"
   ]
  },
  {
   "cell_type": "code",
   "execution_count": 11,
   "id": "41255661-6999-43f1-8f52-0efe83e46b1e",
   "metadata": {},
   "outputs": [],
   "source": [
    "#Nested loop for every row and column of X\n",
    "for i in range(5):\n",
    "    for j in range(5):\n",
    "        #Perform normalization on each element\n",
    "        norm[i,j] = (X[i,j] - m)/std"
   ]
  },
  {
   "cell_type": "markdown",
   "id": "57fd7fa9-0036-411f-994a-2eade5dab1ff",
   "metadata": {},
   "source": [
    "##### Using the function .save(), the normalized X will be saved to 'X_normalized.npy' "
   ]
  },
  {
   "cell_type": "code",
   "execution_count": 13,
   "id": "ef9613d9-76d1-4fe8-b0a9-c0585843d32d",
   "metadata": {},
   "outputs": [],
   "source": [
    "np.save('X_normalized.npy',norm)"
   ]
  },
  {
   "cell_type": "markdown",
   "id": "f8558a8a-e147-4d1b-9564-a668c3154754",
   "metadata": {},
   "source": [
    "# Problem 2\n",
    "####  Create the following 10 x 10 ndarray. which are the squares of the first 100 positive integers.\n",
    "#### From this ndarray, determine all the elements that are divisible by 3. Save the result as div_by_3.npy"
   ]
  },
  {
   "cell_type": "markdown",
   "id": "cae9251e-b88b-4111-9d5d-6f0c35cec56e",
   "metadata": {},
   "source": [
    "##### Using np.zeros(), an empty 10x10 array is made for use in storing the squares of the first 100 positive integers"
   ]
  },
  {
   "cell_type": "code",
   "execution_count": 16,
   "id": "54e293c1-6264-422b-bf23-6081b1a04479",
   "metadata": {},
   "outputs": [],
   "source": [
    "A = np.zeros([10,10])"
   ]
  },
  {
   "cell_type": "markdown",
   "id": "cf83375f-eec5-4b11-a141-bf05f6ccbb41",
   "metadata": {},
   "source": [
    "##### To ensure the program starts at 1, a variable is made that has the value of 1"
   ]
  },
  {
   "cell_type": "code",
   "execution_count": 18,
   "id": "326dca72-ac17-4682-90cc-b58bd0a7c08f",
   "metadata": {},
   "outputs": [],
   "source": [
    "n = 1"
   ]
  },
  {
   "cell_type": "markdown",
   "id": "edcb9fc9-b9ed-472a-96d4-c040f2b4dab5",
   "metadata": {},
   "source": [
    "##### A nested loop is used to populate the array with squares of the first 100 positive integers"
   ]
  },
  {
   "cell_type": "code",
   "execution_count": 20,
   "id": "f7456fb3-f9bd-4660-a2b1-11a6b09a84a7",
   "metadata": {},
   "outputs": [],
   "source": [
    "#Nested loop for each element of A\n",
    "for i in range(10):\n",
    "    for j in range(10):\n",
    "        #Store the value of n squared\n",
    "        A[i,j] = n**2\n",
    "        #increment value of n by 1\n",
    "        n += 1"
   ]
  },
  {
   "cell_type": "markdown",
   "id": "dcf8e3da-f476-489b-ba98-ce4e21c7b9a3",
   "metadata": {},
   "source": [
    "##### Array A is spliced with the condition of all values of A that are divisible by 3 and are stored into B"
   ]
  },
  {
   "cell_type": "code",
   "execution_count": 22,
   "id": "75eda8eb-0692-4c49-91c7-d1685368d178",
   "metadata": {},
   "outputs": [],
   "source": [
    "B = A[A%3==0]"
   ]
  },
  {
   "cell_type": "markdown",
   "id": "d20042e4-0e62-4f12-9d92-922250f930e5",
   "metadata": {},
   "source": [
    "##### Array B is then saved into the file 'div_by_3.npy'"
   ]
  },
  {
   "cell_type": "code",
   "execution_count": 24,
   "id": "d9c41238-dfdb-4aa8-998d-0ee508d4e771",
   "metadata": {
    "scrolled": true
   },
   "outputs": [],
   "source": [
    "np.save('div_by_3.npy',B)"
   ]
  }
 ],
 "metadata": {
  "kernelspec": {
   "display_name": "Python 3 (ipykernel)",
   "language": "python",
   "name": "python3"
  },
  "language_info": {
   "codemirror_mode": {
    "name": "ipython",
    "version": 3
   },
   "file_extension": ".py",
   "mimetype": "text/x-python",
   "name": "python",
   "nbconvert_exporter": "python",
   "pygments_lexer": "ipython3",
   "version": "3.12.4"
  }
 },
 "nbformat": 4,
 "nbformat_minor": 5
}
