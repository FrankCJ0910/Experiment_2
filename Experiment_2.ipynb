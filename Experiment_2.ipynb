{
 "cells": [
  {
   "cell_type": "markdown",
   "id": "d5dbc045-90be-4348-9d3e-616b36922289",
   "metadata": {},
   "source": [
    "# Problem 1 \n",
    "##### Normalization is one of the most basic preprocessing techniques in data analytics. This involves centering and scaling process. Centering means subtracting the data from the mean and scaling means dividing with its standard deviation. Mathematically, normalization can be expressed as:𝑍 = (𝑋 − 𝑥̅)/𝜎"
   ]
  },
  {
   "cell_type": "code",
   "execution_count": 2,
   "id": "8b3e9063-95cd-47db-85ca-00ff19f7ec41",
   "metadata": {},
   "outputs": [
    {
     "data": {
      "text/plain": [
       "array([[ 0.17242256, -0.97531685, -1.86399993,  0.32346195, -1.68274603],\n",
       "       [ 0.90231988, -0.03396452,  0.93730253,  0.04259067,  1.05215064],\n",
       "       [ 1.11814011, -1.07758135,  1.40299234,  0.6135158 ,  1.2814153 ],\n",
       "       [-0.05074354, -0.72176183,  0.31602383, -0.81795398,  0.88800317],\n",
       "       [ 0.10434058, -0.80045545, -0.67577043, -1.82638501,  1.37199957]])"
      ]
     },
     "execution_count": 2,
     "metadata": {},
     "output_type": "execute_result"
    }
   ],
   "source": [
    "#Import numpy library\n",
    "import numpy as np\n",
    "\n",
    "#Create random array\n",
    "X = np.random.random((5,5))\n",
    "\n",
    "#Get the mean of the array\n",
    "m = X.mean()\n",
    "\n",
    "#Get the std of the array\n",
    "std = X.std()\n",
    "\n",
    "#Create array to store normalized values\n",
    "norm = np.zeros([5,5])\n",
    "\n",
    "#Nested loop for every row and column of X\n",
    "for i in range(5):\n",
    "    for j in range(5):\n",
    "        #Perform normalization on each element\n",
    "        norm[i,j] = (X[i,j] - m)/std\n",
    "\n",
    "#Save the array\n",
    "np.save('X_normalized.npy',norm)\n",
    "\n",
    "#Show results\n",
    "norm"
   ]
  },
  {
   "cell_type": "markdown",
   "id": "f8558a8a-e147-4d1b-9564-a668c3154754",
   "metadata": {},
   "source": [
    "# Problem 2\n",
    "#####  Create the following 10 x 10 ndarray. which are the squares of the first 100 positive integers.\n",
    "##### From this ndarray, determine all the elements that are divisible by 3. Save the result as div_by_3.npy"
   ]
  },
  {
   "cell_type": "code",
   "execution_count": 3,
   "id": "d9c41238-dfdb-4aa8-998d-0ee508d4e771",
   "metadata": {},
   "outputs": [
    {
     "data": {
      "text/plain": [
       "array([9.000e+00, 3.600e+01, 8.100e+01, 1.440e+02, 2.250e+02, 3.240e+02,\n",
       "       4.410e+02, 5.760e+02, 7.290e+02, 9.000e+02, 1.089e+03, 1.296e+03,\n",
       "       1.521e+03, 1.764e+03, 2.025e+03, 2.304e+03, 2.601e+03, 2.916e+03,\n",
       "       3.249e+03, 3.600e+03, 3.969e+03, 4.356e+03, 4.761e+03, 5.184e+03,\n",
       "       5.625e+03, 6.084e+03, 6.561e+03, 7.056e+03, 7.569e+03, 8.100e+03,\n",
       "       8.649e+03, 9.216e+03, 9.801e+03])"
      ]
     },
     "execution_count": 3,
     "metadata": {},
     "output_type": "execute_result"
    }
   ],
   "source": [
    "#Create array to store values\n",
    "A = np.zeros([10,10])\n",
    "\n",
    "#Starting value of the array\n",
    "n = 1\n",
    "#Nested loop for each element of A\n",
    "for i in range(10):\n",
    "    for j in range(10):\n",
    "        #Store the value of n squared\n",
    "        A[i,j] = n**2\n",
    "        #increment value of n by 1\n",
    "        n += 1\n",
    "\n",
    "#Store the values that are divisible by 3\n",
    "B = A[A%3==0]\n",
    "\n",
    "#Save the array\n",
    "np.save('div_by_3.npy',B)\n",
    "\n",
    "#Show result\n",
    "B"
   ]
  },
  {
   "cell_type": "markdown",
   "id": "1a40729d",
   "metadata": {},
   "source": [
    "#### Create a 10x10 array with 0 as its value to store the different values needed"
   ]
  },
  {
   "cell_type": "code",
   "execution_count": 3,
   "id": "15b61dd6",
   "metadata": {},
   "outputs": [],
   "source": [
    "A = np.zeros([10,10])"
   ]
  },
  {
   "cell_type": "markdown",
   "id": "baac3807",
   "metadata": {},
   "source": [
    "#####"
   ]
  }
 ],
 "metadata": {
  "kernelspec": {
   "display_name": "Python 3 (ipykernel)",
   "language": "python",
   "name": "python3"
  },
  "language_info": {
   "codemirror_mode": {
    "name": "ipython",
    "version": 3
   },
   "file_extension": ".py",
   "mimetype": "text/x-python",
   "name": "python",
   "nbconvert_exporter": "python",
   "pygments_lexer": "ipython3",
   "version": "3.11.4"
  }
 },
 "nbformat": 4,
 "nbformat_minor": 5
}
